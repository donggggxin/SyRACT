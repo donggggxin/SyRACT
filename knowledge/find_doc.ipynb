{
 "cells": [
  {
   "cell_type": "code",
   "execution_count": null,
   "id": "b30af4d7-ce55-47d0-81dc-5d5e60890457",
   "metadata": {},
   "outputs": [],
   "source": [
    "def abstract(dids):\n",
    "    doc_i = []\n",
    "    for did in dids:\n",
    "        #print(did)\n",
    "        num = 0\n",
    "        base_url = 'https://pubmed.ncbi.nlm.nih.gov/'\n",
    "        url = f'{base_url}{did}'\n",
    "        time.sleep(1)\n",
    "        response = requests.get(url)\n",
    "        paper = []\n",
    "        # 检查请求是否成功\n",
    "        if response.status_code == 200:\n",
    "\n",
    "            # 使用BeautifulSoup解析HTML内容\n",
    "            soup = BeautifulSoup(response.text, 'html.parser')\n",
    "            #print(soup)\n",
    "            abstract_paragraphs = soup.find('div', {'id': 'eng-abstract'})\n",
    "            # 提取每个段落的标题和内容\n",
    "            if abstract_paragraphs:\n",
    "                abstract_paragraphs=abstract_paragraphs.find_all('p')\n",
    "            else:\n",
    "                print(did,'not found')\n",
    "                notfounddid.append(did)\n",
    "                continue\n",
    "            for paragraph in abstract_paragraphs:\n",
    "                ddid = did\n",
    "                # num += 1\n",
    "                content = paragraph.text.strip()\n",
    "                cleaned_text = ' '.join(content.split())\n",
    "                # print(1111111)\n",
    "                # print(cleaned_text)\n",
    "                doc_ij = {\"id\": ddid, \"token\": cleaned_text}\n",
    "                #print('doc_ij',doc_ij)\n",
    "                doc_i.append(doc_ij)\n",
    "\n",
    "        else:\n",
    "            print('Failed to retrieve the webpage')\n",
    "\n",
    "    #print('doc_i',doc_i)\n",
    "    return doc_i"
   ]
  }
 ],
 "metadata": {
  "kernelspec": {
   "display_name": "Python 3 (ipykernel)",
   "language": "python",
   "name": "python3"
  },
  "language_info": {
   "codemirror_mode": {
    "name": "ipython",
    "version": 3
   },
   "file_extension": ".py",
   "mimetype": "text/x-python",
   "name": "python",
   "nbconvert_exporter": "python",
   "pygments_lexer": "ipython3",
   "version": "3.8.10"
  }
 },
 "nbformat": 4,
 "nbformat_minor": 5
}
