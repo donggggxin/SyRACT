{
 "cells": [
  {
   "cell_type": "code",
   "execution_count": null,
   "id": "c7360d14-dfe4-4297-861b-12571fcb0d9c",
   "metadata": {},
   "outputs": [],
   "source": [
    "def process_mesh_term(term,mesh):\n",
    "    base_url = 'https://www.ncbi.nlm.nih.gov/mesh/'\n",
    "    url = f'{base_url}?term={term}'  # 构造完整的 URL\n",
    "\n",
    "    try:\n",
    "        # 发送 HTTP 请求\n",
    "        time.sleep(3)\n",
    "        response = requests.get(url)\n",
    "\n",
    "        # 确保请求成功\n",
    "        if response.status_code == 200:\n",
    "            # 使用 BeautifulSoup 解析 HTML 文档\n",
    "            soup = BeautifulSoup(response.text, 'html.parser')\n",
    "\n",
    "            # 提取 <h1 class=\"title\"> 标签中的文本\n",
    "            title_tag = soup.find('h1', class_='title')\n",
    "            if title_tag:\n",
    "                print(title_tag.get_text())\n",
    "                # 将找到的标题添加到mesh字典中\n",
    "                title = title_tag.get_text()\n",
    "                print(f'id: {term} | MESH: {title_tag.get_text()}')\n",
    "            else:\n",
    "                print(f'id Term: {term} | MESH not found')\n",
    "                title = 'MESH not found'\n",
    "                notfound.append(term)\n",
    "        else:\n",
    "            print(f'Failed to retrieve the webpage for term {term}, status code: {response.status_code}')\n",
    "    except requests.exceptions.RequestException as e:\n",
    "        mesh_json = json.dumps(mesh, indent=4)\n",
    "        # 将JSON字符串写入文件\n",
    "        with open('mesh.json', 'w') as json_file:\n",
    "            json_file.write(mesh_json)\n",
    "        print(f'Request failed for term {term}, error: {e}')\n",
    "        title='aaa'\n",
    "    return title"
   ]
  }
 ],
 "metadata": {
  "kernelspec": {
   "display_name": "Python 3 (ipykernel)",
   "language": "python",
   "name": "python3"
  },
  "language_info": {
   "codemirror_mode": {
    "name": "ipython",
    "version": 3
   },
   "file_extension": ".py",
   "mimetype": "text/x-python",
   "name": "python",
   "nbconvert_exporter": "python",
   "pygments_lexer": "ipython3",
   "version": "3.8.10"
  }
 },
 "nbformat": 4,
 "nbformat_minor": 5
}
